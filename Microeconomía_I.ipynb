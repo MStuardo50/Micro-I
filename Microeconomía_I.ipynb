{
  "nbformat": 4,
  "nbformat_minor": 0,
  "metadata": {
    "colab": {
      "provenance": [],
      "toc_visible": true,
      "authorship_tag": "ABX9TyPfYgtUU4SL4Gf5KoGusWf1",
      "include_colab_link": true
    },
    "kernelspec": {
      "name": "ir",
      "display_name": "R"
    },
    "language_info": {
      "name": "R"
    }
  },
  "cells": [
    {
      "cell_type": "markdown",
      "metadata": {
        "id": "view-in-github",
        "colab_type": "text"
      },
      "source": [
        "<a href=\"https://colab.research.google.com/github/MStuardo50/Micro-I/blob/main/Microeconom%C3%ADa_I.ipynb\" target=\"_parent\"><img src=\"https://colab.research.google.com/assets/colab-badge.svg\" alt=\"Open In Colab\"/></a>"
      ]
    },
    {
      "cell_type": "markdown",
      "source": [
        "# Microeconomía I\n",
        "\n",
        "En este documento se realizará un resumen sobre la asignatura de Microeconomía I, que abarcará toda la materia que compete al curso. Este contendrá los conceptos teóricos con ejemplos para hacer más sencillo el entendimiento de los tópicos. Ojalá les sirva."
      ],
      "metadata": {
        "id": "mRJDdR0M8xGd"
      }
    }
  ]
}